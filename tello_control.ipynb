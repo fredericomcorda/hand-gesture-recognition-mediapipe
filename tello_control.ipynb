{
 "cells": [
  {
   "cell_type": "code",
   "execution_count": null,
   "metadata": {},
   "outputs": [],
   "source": [
    "from tello import Tello"
   ]
  },
  {
   "cell_type": "code",
   "execution_count": null,
   "metadata": {},
   "outputs": [],
   "source": [
    "class TelloControl(object):\n",
    "    def __init__(self):\n",
    "        self.tello = Tello\n",
    "\n",
    "        # RC control velocities\n",
    "        self.forw_back_velocity = 0\n",
    "        self.up_down_velocity = 0\n",
    "        self.left_right_velocity = 0\n",
    "        self.yaw_velocity = 0\n",
    "\n",
    "    def control(self, hand_recognized):\n",
    "        gesture_id = hand_recognized\n",
    "        print(\"Recognized! \", gesture_id)\n",
    "        if gesture_id == 0:  # Forward\n",
    "            self.forw_back_velocity = 30\n",
    "        elif gesture_id == 1:  # STOP\n",
    "            self.forw_back_velocity = self.up_down_velocity = \\\n",
    "                self.left_right_velocity = self.yaw_velocity = 0\n",
    "        if gesture_id == 5:  # Back\n",
    "            self.forw_back_velocity = -30\n",
    "\n",
    "        elif gesture_id == 2:  # UP\n",
    "            self.up_down_velocity = 25\n",
    "        elif gesture_id == 4:  # DOWN\n",
    "            self.up_down_velocity = -25\n",
    "\n",
    "        elif gesture_id == 6: # LEFT\n",
    "            self.left_right_velocity = 20\n",
    "        elif gesture_id == 7: # RIGHT\n",
    "            self.left_right_velocity = -20\n",
    "\n",
    "        elif gesture_id == -1:\n",
    "            self.forw_back_velocity = self.up_down_velocity = \\\n",
    "                self.left_right_velocity = self.yaw_velocity = 0\n",
    "\n",
    "        self.tello.send_rc_control(self.left_right_velocity, self.forw_back_velocity,\n",
    "                                    self.up_down_velocity, self.yaw_velocity)\n"
   ]
  },
  {
   "attachments": {},
   "cell_type": "markdown",
   "metadata": {},
   "source": [
    "tello.connect()\n",
    "tello.takeoff()\n",
    "\n",
    "tello.move_left(100)\n",
    "tello.rotate_clockwise(90)\n",
    "tello.move_forward(100)\n",
    "\n",
    "tello.land()"
   ]
  }
 ],
 "metadata": {
  "kernelspec": {
   "display_name": "Python 3",
   "language": "python",
   "name": "python3"
  },
  "language_info": {
   "name": "python",
   "version": "3.7.4"
  },
  "orig_nbformat": 4,
  "vscode": {
   "interpreter": {
    "hash": "c438be70fe7b14fa31e78cfaf571a5f956365162ba67af6fb1eb95bac3223110"
   }
  }
 },
 "nbformat": 4,
 "nbformat_minor": 2
}
